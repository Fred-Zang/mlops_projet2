{
 "cells": [
  {
   "cell_type": "markdown",
   "id": "5ab694f0-00d4-48a2-8e29-d91a1ee76069",
   "metadata": {},
   "source": [
    "<center><img src=\"https://datascientest.fr/train/assets/logo_datascientest.png\", style=\"height:150px\"/></center>\n",
    "\n",
    "<hr style=\"border-width:2px;border-color:#75DFC1\">\n",
    "\n",
    "<center><img src=\"https://assets-datascientest.s3.eu-west-1.amazonaws.com/logo+SatisPy+Project.png\", style=\"height:150px\"/></center>"
   ]
  },
  {
   "cell_type": "markdown",
   "id": "db66c52c",
   "metadata": {},
   "source": [
    "<center><h1> Vectorisation & Filtrage de la cible *Commentaire* </h1></center>"
   ]
  },
  {
   "cell_type": "markdown",
   "id": "e5514480",
   "metadata": {},
   "source": [
    "### Import des packages et versions utilisées"
   ]
  },
  {
   "cell_type": "code",
   "execution_count": 45,
   "id": "ee8973aa",
   "metadata": {},
   "outputs": [
    {
     "name": "stderr",
     "output_type": "stream",
     "text": [
      "[nltk_data] Downloading package stopwords to\n",
      "[nltk_data]     C:\\Users\\UserPC\\AppData\\Roaming\\nltk_data...\n",
      "[nltk_data]   Package stopwords is already up-to-date!\n"
     ]
    }
   ],
   "source": [
    "import sys\n",
    "import pandas as pd\n",
    "import numpy as np\n",
    "import seaborn as sns\n",
    "from time import time\n",
    "import re \n",
    "from collections import Counter\n",
    "import nltk\n",
    "from nltk.corpus import stopwords                                \n",
    "# fonction stop_words_filtering crée pour bibliotheque de mots à stopper perso\n",
    "nltk.download('stopwords')\n",
    "\n",
    "import spacy\n",
    "\n",
    "import gensim\n",
    "# from gensim.models import keyedvectors\n",
    "from gensim.models.keyedvectors import load_word2vec_format\n",
    "from gensim.test.utils import datapath\n"
   ]
  },
  {
   "cell_type": "code",
   "execution_count": 46,
   "id": "72bacb47",
   "metadata": {},
   "outputs": [
    {
     "name": "stdout",
     "output_type": "stream",
     "text": [
      "Version des librairies utilisées :\n",
      "Python                : 3.9.12 (main, Apr  4 2022, 05:22:27) [MSC v.1916 64 bit (AMD64)]\n",
      "NumPy                 : 1.21.5\n",
      "Pandas                : 1.4.2\n",
      "Seaborn               : 0.11.2\n",
      "NaturaLanguageTooKit  : 3.7\n",
      "Gensim                : 4.1.2\n",
      "wikipedia2vec         : 1.0.5\n"
     ]
    }
   ],
   "source": [
    "print('Version des librairies utilisées :')\n",
    "print('Python                : ' + sys.version)\n",
    "print('NumPy                 : ' + np.version.full_version)\n",
    "print('Pandas                : ' + pd.__version__)\n",
    "print('Seaborn               : ' + sns.__version__)\n",
    "print('NaturaLanguageTooKit  : ' + nltk.__version__)        \n",
    "print('Gensim                : ' + '4.1.2')                 \n",
    "print('wikipedia2vec         : ' + '1.0.5')\n"
   ]
  },
  {
   "cell_type": "markdown",
   "id": "8bab5ed5",
   "metadata": {},
   "source": [
    "### paramétrage de l'affichage"
   ]
  },
  {
   "cell_type": "code",
   "execution_count": 47,
   "id": "ee359440",
   "metadata": {},
   "outputs": [],
   "source": [
    "# préparation de l'affichage des dataframes => même fonction que le notebook data_explo à séparer dans un outils.py à importer\n",
    "\n",
    "dico_pd_option = {\n",
    "    'display.max_rows': 100,    # nbre max de lignes \n",
    "    'display.max_column': 50,  # nbre max de colonnes\n",
    "    'display.width': 100,       # largeur lignes \n",
    "    'display.precision': 2,     # precision des valeurs\n",
    "    'display.max_colwidth': 100  # largeurs colonnes\n",
    "}\n",
    "for cle, val in dico_pd_option.items():\n",
    "    pd.set_option(cle, val)\n",
    "    \n",
    "pd.options.display.float_format = \"{:,.3f}\".format  # affichage pd float à 3 décimales\n"
   ]
  },
  {
   "cell_type": "markdown",
   "id": "ee120544",
   "metadata": {},
   "source": [
    "### Chargement du fichier de sauvegarde en Français traité par langid précédemment"
   ]
  },
  {
   "cell_type": "code",
   "execution_count": 48,
   "id": "ab099ce4",
   "metadata": {},
   "outputs": [],
   "source": [
    "# importer les données nettoyées\n",
    "data = pd.read_csv('reviews_trust_fr_VF.csv', sep=',')  \n",
    "data.drop(data.iloc[:,:1], axis=1, inplace=True)\n"
   ]
  },
  {
   "cell_type": "markdown",
   "id": "6d71b617",
   "metadata": {},
   "source": [
    "## Choix de numérisation des étoiles 'star'"
   ]
  },
  {
   "cell_type": "code",
   "execution_count": 49,
   "id": "6b8df807-0642-4e35-9059-38605a487245",
   "metadata": {},
   "outputs": [
    {
     "name": "stdout",
     "output_type": "stream",
     "text": [
      "les proportion des 0 et 1\n"
     ]
    },
    {
     "data": {
      "text/plain": [
       "1   65.556\n",
       "0   34.444\n",
       "Name: star, dtype: float64"
      ]
     },
     "metadata": {},
     "output_type": "display_data"
    },
    {
     "data": {
      "text/html": [
       "<div>\n",
       "<style scoped>\n",
       "    .dataframe tbody tr th:only-of-type {\n",
       "        vertical-align: middle;\n",
       "    }\n",
       "\n",
       "    .dataframe tbody tr th {\n",
       "        vertical-align: top;\n",
       "    }\n",
       "\n",
       "    .dataframe thead th {\n",
       "        text-align: right;\n",
       "    }\n",
       "</style>\n",
       "<table border=\"1\" class=\"dataframe\">\n",
       "  <thead>\n",
       "    <tr style=\"text-align: right;\">\n",
       "      <th></th>\n",
       "      <th>Commentaire</th>\n",
       "      <th>star</th>\n",
       "      <th>source</th>\n",
       "      <th>company</th>\n",
       "      <th>index_org</th>\n",
       "      <th>star_org</th>\n",
       "      <th>date</th>\n",
       "    </tr>\n",
       "  </thead>\n",
       "  <tbody>\n",
       "    <tr>\n",
       "      <th>10501</th>\n",
       "      <td>très beau article de qualité mais taille petit c est dommage</td>\n",
       "      <td>1</td>\n",
       "      <td>TrustedShop</td>\n",
       "      <td>ShowRoom</td>\n",
       "      <td>12931</td>\n",
       "      <td>4</td>\n",
       "      <td>2020-07-01</td>\n",
       "    </tr>\n",
       "  </tbody>\n",
       "</table>\n",
       "</div>"
      ],
      "text/plain": [
       "                                                        Commentaire  star       source   company  \\\n",
       "10501  très beau article de qualité mais taille petit c est dommage     1  TrustedShop  ShowRoom   \n",
       "\n",
       "       index_org  star_org        date  \n",
       "10501      12931         4  2020-07-01  "
      ]
     },
     "execution_count": 49,
     "metadata": {},
     "output_type": "execute_result"
    }
   ],
   "source": [
    "new_star = {1:0,2:0,3:1,4:1,5:1}\n",
    "data.star.replace(new_star,inplace = True)\n",
    "\n",
    "\"\"\" voir proportions des 0 et 1 \"\"\"\n",
    "print('les proportion des 0 et 1')\n",
    "display(data.star.value_counts()*100/data.shape[0])    \n",
    "\n",
    "data.sample(1)"
   ]
  },
  {
   "cell_type": "markdown",
   "id": "1af7631c",
   "metadata": {},
   "source": [
    "## Nettoyage du corpus"
   ]
  },
  {
   "cell_type": "code",
   "execution_count": 50,
   "id": "4ae8558a",
   "metadata": {},
   "outputs": [
    {
     "name": "stdout",
     "output_type": "stream",
     "text": [
      "bonjour , ca doit faire 5 ans environ que je suis membre showrooprive . je n ’ ai jamais eu de soucis en particulier à part 2/3 petites bricoles…par contre depuis ces 3 derniers mois , une vraie catastrophe ! j ’ ai eu 3 commandes annulées d ’ affiliés… à se demander si les ventes sont bien réelles histoires de nous faire payer et que showroom « joue » avec notre argent en se faisant des intérêts bancaires sur notre dos ! ! ! ! la 1 ère commande « machines et cafés » 89,99€… annulé 1 mois après …la 2e commande « don ’ t call me jennifer » 65,16€… annulé 1 mois après …la 3e commande « techwood » 46,29€… annulé 1 mois après….je l ’ apprends toujours par mail…le même message « bateau » « malgré tous les efforts… .. bla-bla-bla bien évidemment , pas de dédommagement ! ! ! ! ben . non , hein , pourquoi faire ? ! ? ! je doute que ce site soit aussi fiable et sérieux qu ’ au début ! au final je vais juste rester fidèle sur n autre site marchand ! ! ! ! ! très décevant … plus du tout confiance je ne recommande plus du tout ce site et j ’ en fais part à mon entourage et réseaux sociaux ! ! afin d ’ éviter que d ’ autres personnes connaissent ce même type d ’ expérience ! !\n"
     ]
    }
   ],
   "source": [
    "# récupérer colonne 'Commentaire' sous forme de liste de str dans corpus\n",
    "corpus = data['Commentaire'].tolist()                                          \n",
    "print(corpus[0])\n"
   ]
  },
  {
   "cell_type": "markdown",
   "id": "e95ed7e3",
   "metadata": {},
   "source": [
    "### Probleme r a s , r a d,  ras, rad, r.a.s et r.a.d et variantes avec 'à' au lieu du 'a' + problème lié de 'ras le bol'\n",
    "- En parcourant les verbatims aléatoirement de nombreuses fois, nous avons remarqué le problème suivant :\n",
    "   - beaucoup de commentaires contiennent juste l'expression 'ras' pour 'rien à signaler' et leurs  variantes avec espace et le lettre 'à' au lieu de la lettre 'a', un point ou un espace séparant le r, a et s et parfois même un d remplaçant le r pour \"rien à dire \".\n",
    "   - cela pose un probleme de filtrage à venir où on souhaite éliminer tous les mots de moins de 4 lettre (<=3) car il ne resterait plus aucun commentaire pour nos prédiction\n",
    "   - de plus ce raccourcis 'ras' donne une notation toujours positive au message, la prédiction est donc aisée\n",
    "   - un autre problème a été remarqué avec la présence de nombreux 'ras le bol' qui est un sentiment négatif et serait aussi éliminé pour notre filtre de moins de 4 caractères\n",
    "   \n",
    "- la partie de code qui suit nous sert à filtrer toutes les combinaisons possibles de 'ras' et de 'ras le bol' => nous trouveront 2.2% du data_set concerné ce qui n'est pas négligeable\n",
    "- puis nous procèreront au remplacement de ces mots comme il convient par 'bien' pour les 'ras' et 'mauvais' pour les 'ras le bol' afin de ne pas vider de lignes de tokens et ajouter un sentiment fort\n",
    "- un tableau boolean des résultats avec les commentaires associés nous permet de vérifier nos résultats au fur et à mesure.\n",
    "- nous ne présentons pas ici tous les résultats intermédiaires, mais le code en substance pour montrer notre procédure\n",
    "- enfin, cette partie pourra être détachée ou ne sera plus utile pour la suite, sauf à construire une fonction de traitement qui fera une conversion automatique pour tout commentaire à venir"
   ]
  },
  {
   "cell_type": "markdown",
   "id": "4bdec1e6",
   "metadata": {},
   "source": [
    "### Fonction de conversion d'une liste de listes en 1 seule liste"
   ]
  },
  {
   "cell_type": "code",
   "execution_count": 51,
   "id": "b0e7844c",
   "metadata": {},
   "outputs": [],
   "source": [
    "# convertion d'une liste de liste en 1 seule liste \n",
    "def extend_list(my_list, res=None):\n",
    "    if res is None:\n",
    "        res = []\n",
    "    for obj in my_list:\n",
    "        if isinstance(obj, (list, tuple)):\n",
    "            extend_list(obj, res)\n",
    "        else:\n",
    "            res.append(obj)\n",
    "    return res"
   ]
  },
  {
   "cell_type": "code",
   "execution_count": 52,
   "id": "6367b4e9",
   "metadata": {},
   "outputs": [
    {
     "name": "stdout",
     "output_type": "stream",
     "text": [
      "Counter({'ras': 356, 'rad': 4})\n",
      "Counter list_bool_ras_true = 360\n"
     ]
    }
   ],
   "source": [
    "# trouver tous les ras sans espace et variantes et les afficher \n",
    "\n",
    "# compilateur regex pour 'ras' ràs' 'rad' et 'ràd'\n",
    "re_ras = re.compile(r\"\\bras\\b|\\bràs\\b|\\brad\\b|\\bràd\\b\")   \n",
    "\n",
    "list_ras = []  \n",
    "for ele in corpus:                \n",
    "    list_ras.append(re_ras.findall(ele))\n",
    "    # print(re_ras.findall(ele)) \n",
    "    \n",
    "# affichage des fréquences trouvées\n",
    "list_extend = extend_list(list_ras)\n",
    "list_freq = Counter(list_extend)\n",
    "print(list_freq)\n",
    "\n",
    "# convertir list_ras en liste boolean pour indexing de notre data et vérification des étoiles star liées aux commentaires ras et variantes\n",
    "list_bool_ras = []\n",
    "for row in list_ras:                                                          \n",
    "    if len(row)!=0:\n",
    "        list_bool_ras.append(True)\n",
    "    else:\n",
    "        list_bool_ras.append(False)\n",
    "        \n",
    "print(\"Counter list_bool_ras_true =\",list_bool_ras.count(True))                                                          # -> 367 True ras ou rad  !!!  OK BON"
   ]
  },
  {
   "cell_type": "code",
   "execution_count": 53,
   "id": "87e5e4c6",
   "metadata": {},
   "outputs": [
    {
     "name": "stdout",
     "output_type": "stream",
     "text": [
      "Counter({'r a s': 5, 'r à s': 2})\n",
      "Counter list_bool_r_a_s_true = 7\n"
     ]
    }
   ],
   "source": [
    "# compilateur regex pour 'r a s' r à s' 'r a d' et 'r à d'\n",
    "re_r_a_s = re.compile(r\"[r]+[\\s]+[a|à]+[\\s]+[s|d]$\")  \n",
    "\n",
    "list_r_a_s = []  \n",
    "for ele in corpus:                \n",
    "    list_r_a_s.append(re_r_a_s.findall(ele))\n",
    "    # print(re_r_a_s.findall(ele)) \n",
    "    \n",
    "# affichage des fréquences trouvées\n",
    "list_extend = extend_list(list_r_a_s)\n",
    "list_freq = Counter(list_extend)\n",
    "print(list_freq)\n",
    "\n",
    "# convertir list_ras en liste boolean pour indexing de notre data et vérification des étoiles star liées aux commentaires ras et variantes\n",
    "list_bool_r_a_s = []\n",
    "for row in list_r_a_s:                                                          \n",
    "    if len(row)!=0:\n",
    "        list_bool_r_a_s.append(True)\n",
    "    else:\n",
    "        list_bool_r_a_s.append(False)\n",
    "        \n",
    "print(\"Counter list_bool_r_a_s_true =\",list_bool_r_a_s.count(True))                                                          # -> 7 True r a s ou r a d  !!!  OK BON"
   ]
  },
  {
   "cell_type": "code",
   "execution_count": 54,
   "id": "8b99d4d8",
   "metadata": {},
   "outputs": [
    {
     "name": "stdout",
     "output_type": "stream",
     "text": [
      "Counter({'ras le bol': 16})\n",
      "Counter list_bool_raslebol_true = 16\n"
     ]
    }
   ],
   "source": [
    "# compilateur regex pour 'ras le bol'\n",
    "re_raslebol = re.compile(r\"(ras le bol)+\")\n",
    "\n",
    "list_raslebol = []  \n",
    "for ele in corpus:              \n",
    "    list_raslebol.append(re_raslebol.findall(ele))\n",
    "    # print(re_ras.findall(ele)) \n",
    "    \n",
    "# affichage des fréquences trouvées\n",
    "list_extend = extend_list(list_raslebol)\n",
    "list_freq = Counter(list_extend)\n",
    "print(list_freq)\n",
    "\n",
    "# convertir list_ras en liste boolean pour indexing de notre data et vérification des étoiles star liées aux commentaires ras et variantes\n",
    "list_bool_raslebol = []\n",
    "for row in list_raslebol:                                                        \n",
    "    if len(row)!=0:\n",
    "        list_bool_raslebol.append(True)\n",
    "    else:\n",
    "        list_bool_raslebol.append(False)\n",
    "        \n",
    "print(\"Counter list_bool_raslebol_true =\",list_bool_raslebol.count(True))                                                          # -> 16 True 'ras le bol'"
   ]
  },
  {
   "cell_type": "code",
   "execution_count": 55,
   "id": "8b684188",
   "metadata": {},
   "outputs": [
    {
     "name": "stdout",
     "output_type": "stream",
     "text": [
      "data_ras.shape =  (367, 8)\n"
     ]
    }
   ],
   "source": [
    "# fusion des 2 tableaux boolean des ras et r a s\n",
    "list_fin = [True if ((list_bool_ras[i]==True)|(list_bool_r_a_s[i]==True)) else False for i in range(len(list_bool_ras))]\n",
    "list_fin.count(True)  # 374 = 367 + 7 ok\n",
    "\n",
    "# vérification des étoiles star associées au bool True de ras rad r a s etc...\n",
    "data['mask_ras'] = list_fin\n",
    "data_ras = data.loc[data['mask_ras']==True]\n",
    "print(\"data_ras.shape = \",data_ras.shape)\n",
    "# data_ras.head(20)"
   ]
  },
  {
   "cell_type": "code",
   "execution_count": 56,
   "id": "052f09c3",
   "metadata": {},
   "outputs": [
    {
     "name": "stdout",
     "output_type": "stream",
     "text": [
      " nombre de ligne avec 'ras' et étoile 0 (mauvaise notation) =  16\n"
     ]
    },
    {
     "data": {
      "text/html": [
       "<div>\n",
       "<style scoped>\n",
       "    .dataframe tbody tr th:only-of-type {\n",
       "        vertical-align: middle;\n",
       "    }\n",
       "\n",
       "    .dataframe tbody tr th {\n",
       "        vertical-align: top;\n",
       "    }\n",
       "\n",
       "    .dataframe thead th {\n",
       "        text-align: right;\n",
       "    }\n",
       "</style>\n",
       "<table border=\"1\" class=\"dataframe\">\n",
       "  <thead>\n",
       "    <tr style=\"text-align: right;\">\n",
       "      <th></th>\n",
       "      <th>Commentaire</th>\n",
       "      <th>star</th>\n",
       "      <th>source</th>\n",
       "      <th>company</th>\n",
       "      <th>index_org</th>\n",
       "      <th>star_org</th>\n",
       "      <th>date</th>\n",
       "      <th>mask_ras</th>\n",
       "    </tr>\n",
       "  </thead>\n",
       "  <tbody>\n",
       "    <tr>\n",
       "      <th>598</th>\n",
       "      <td>très déçu de mon expérience .... commande numéro 213999306 jamais reçu ( aurrai du arriver le 4/...</td>\n",
       "      <td>0</td>\n",
       "      <td>TrustPilot</td>\n",
       "      <td>ShowRoom</td>\n",
       "      <td>638</td>\n",
       "      <td>1</td>\n",
       "      <td>2021-01-03 00:00:00+00:00</td>\n",
       "      <td>True</td>\n",
       "    </tr>\n",
       "    <tr>\n",
       "      <th>610</th>\n",
       "      <td>site qui devient catastrophique depuis quelques temps , il manque des articles dans les commande...</td>\n",
       "      <td>0</td>\n",
       "      <td>TrustPilot</td>\n",
       "      <td>ShowRoom</td>\n",
       "      <td>650</td>\n",
       "      <td>1</td>\n",
       "      <td>2020-12-31 00:00:00+00:00</td>\n",
       "      <td>True</td>\n",
       "    </tr>\n",
       "    <tr>\n",
       "      <th>708</th>\n",
       "      <td>toujours pas de remboursement le statut de ma commande est tjs expédiée et le colis n ’ est jama...</td>\n",
       "      <td>0</td>\n",
       "      <td>TrustPilot</td>\n",
       "      <td>ShowRoom</td>\n",
       "      <td>748</td>\n",
       "      <td>1</td>\n",
       "      <td>2020-12-16 00:00:00+00:00</td>\n",
       "      <td>True</td>\n",
       "    </tr>\n",
       "  </tbody>\n",
       "</table>\n",
       "</div>"
      ],
      "text/plain": [
       "                                                                                             Commentaire  \\\n",
       "598  très déçu de mon expérience .... commande numéro 213999306 jamais reçu ( aurrai du arriver le 4/...   \n",
       "610  site qui devient catastrophique depuis quelques temps , il manque des articles dans les commande...   \n",
       "708  toujours pas de remboursement le statut de ma commande est tjs expédiée et le colis n ’ est jama...   \n",
       "\n",
       "     star      source   company  index_org  star_org                       date  mask_ras  \n",
       "598     0  TrustPilot  ShowRoom        638         1  2021-01-03 00:00:00+00:00      True  \n",
       "610     0  TrustPilot  ShowRoom        650         1  2020-12-31 00:00:00+00:00      True  \n",
       "708     0  TrustPilot  ShowRoom        748         1  2020-12-16 00:00:00+00:00      True  "
      ]
     },
     "execution_count": 56,
     "metadata": {},
     "output_type": "execute_result"
    }
   ],
   "source": [
    "# Analyse des ras avec étoile = 0 = mauvais\n",
    "print(\" nombre de ligne avec 'ras' et étoile 0 (mauvaise notation) = \", data_ras.loc[data_ras['star']==0].shape[0])\n",
    "data_ras.loc[data_ras['star']==0].head(3)"
   ]
  },
  {
   "cell_type": "code",
   "execution_count": 57,
   "id": "0d2334f9",
   "metadata": {},
   "outputs": [
    {
     "data": {
      "text/plain": [
       "\" faire varier le head() ou passer en sample(20) pour observer les différents cas, le head(20) donne essentiellement des 'ras le bol' plutot que des ras ici \""
      ]
     },
     "execution_count": 57,
     "metadata": {},
     "output_type": "execute_result"
    }
   ],
   "source": [
    "\"\"\" faire varier le head() ou passer en sample(20) pour observer les différents cas, le head(20) donne essentiellement des 'ras le bol' plutot que des ras ici \"\"\""
   ]
  },
  {
   "cell_type": "code",
   "execution_count": 58,
   "id": "507cfa80",
   "metadata": {},
   "outputs": [],
   "source": [
    "'''\n",
    "#la méthode apply&lambda fonctionne aussi\n",
    "il y une illustration avec des analyses de sentiment\n",
    "'''\n",
    "# problème de \"ras, ràs, rad, ràd, ras le bol\"\n",
    "data2 = pd.read_csv('reviews_trust_fr_VF.csv', sep=',')  \n",
    "data2.drop(data2.iloc[:,:1], axis=1, inplace=True)\n",
    "new_star = {1:0,2:0,3:1,4:1,5:1}\n",
    "data2.star.replace(new_star,inplace = True)\n",
    "re_ras = re.compile(r\"\\bras\\b|\\bràs\\b|\\brad\\b|\\bràd\\b\")\n",
    "re_r_a_s = re.compile(r\"[r]+[\\s]+[a|à]+[\\s]+[s|d]$\")\n",
    "re_raslebol = re.compile(r\"(ras le bol)+\")\n",
    "data2['pb_rasd']=data2['Commentaire'].apply(lambda x: len(re_ras.findall(x)))\n",
    "data2['pb_r_a_s_d']=data2['Commentaire'].apply(lambda x: len(re_r_a_s.findall(x)))\n",
    "data2['pb_raslebol']=data2['Commentaire'].apply(lambda x: len(re_raslebol.findall(x)))\n",
    "data2['pb_rasd'] = data2['pb_rasd']+data2['pb_r_a_s_d']"
   ]
  },
  {
   "cell_type": "markdown",
   "id": "124dabdf",
   "metadata": {},
   "source": [
    "## Analyser les sentiments des \"ras rad ...\""
   ]
  },
  {
   "cell_type": "code",
   "execution_count": 59,
   "id": "a3022344",
   "metadata": {},
   "outputs": [
    {
     "name": "stderr",
     "output_type": "stream",
     "text": [
      "C:\\Users\\UserPC\\anaconda3\\lib\\site-packages\\seaborn\\_decorators.py:36: FutureWarning: Pass the following variable as a keyword arg: x. From version 0.12, the only valid positional argument will be `data`, and passing other arguments without an explicit keyword will result in an error or misinterpretation.\n",
      "  warnings.warn(\n"
     ]
    },
    {
     "data": {
      "image/png": "[encoded data removed]",
      "text/plain": [
       "<Figure size 432x288 with 1 Axes>"
      ]
     },
     "metadata": {
      "needs_background": "light"
     },
     "output_type": "display_data"
    }
   ],
   "source": [
    "sns.countplot(data2[data2['pb_r_a_s_d'] != 0]['star'] ).set(title = 'distribution des stars-r_a_s_d');"
   ]
  },
  {
   "cell_type": "code",
   "execution_count": 60,
   "id": "ab4878ca",
   "metadata": {},
   "outputs": [
    {
     "name": "stderr",
     "output_type": "stream",
     "text": [
      "C:\\Users\\UserPC\\anaconda3\\lib\\site-packages\\seaborn\\_decorators.py:36: FutureWarning: Pass the following variable as a keyword arg: x. From version 0.12, the only valid positional argument will be `data`, and passing other arguments without an explicit keyword will result in an error or misinterpretation.\n",
      "  warnings.warn(\n"
     ]
    },
    {
     "data": {
      "image/png": "[encoded data removed]",
      "text/plain": [
       "<Figure size 432x288 with 1 Axes>"
      ]
     },
     "metadata": {
      "needs_background": "light"
     },
     "output_type": "display_data"
    }
   ],
   "source": [
    "sns.countplot(data2[data2['pb_raslebol'] != 0]['star'] ).set(title = 'distribution des stars-ras_le_bol');"
   ]
  },
  {
   "cell_type": "markdown",
   "id": "643a27b5",
   "metadata": {},
   "source": [
    "- On remarque que les mauvaise notations viennent de 'ras ' suivi de 'le bol' qui est bien une mauvaise notation contrairement à 'ras' seul qui est une bonne notation\n",
    "- les conversions de 'ras' ou 'r a s' et variante en 'bien' permettront de confirmer une bonne notation\n",
    "- les conversions de 'ras le bol' en mauvais permetttront de confirmer une mauvaise notation\n",
    "- ces conversions permettent aussi un filtre par la suite pour éliminer les mots <= à 3 caractères ( ce qui aurait éliminé 'ras' et 'ras le bol' sans distinction"
   ]
  },
  {
   "cell_type": "markdown",
   "id": "5b3c8dd1",
   "metadata": {},
   "source": [
    "### conversion des ras et ras le bol\n",
    "- cette conversion doit nous aider à fabriquer notre fonction de filtrage et conversion automatique de ces mots"
   ]
  },
  {
   "cell_type": "code",
   "execution_count": 62,
   "id": "fbe46c48",
   "metadata": {},
   "outputs": [
    {
     "name": "stdout",
     "output_type": "stream",
     "text": [
      "temps écoulé =  0.387998104095459\n",
      "temps écoulé =  0.5400333404541016\n",
      "temps écoulé =  0.1529998779296875\n",
      "temps écoulé =  0.4239993095397949\n"
     ]
    }
   ],
   "source": [
    "# les 4 regex vus ci-dessus rappelés ici\n",
    "re_ras_points = re.compile(r\"(r.a.s)|(r.à.s)|(r.a.d)|(r.à.d)\") # pb r.a.s, r.à.s, r.a.d et r.à.d \n",
    "re_r_a_s = re.compile(r\"[r]+[\\s]+[a|à]+[\\s]+[s|d]$\")      # pb r a s , r a d , r à s , r à d\n",
    "re_ras = re.compile(r\"\\bras\\b|\\bràs\\b|\\brad\\b|\\bràd\\b\")   # pb ras , rad , ràs , ràs\n",
    "re_raslebol = re.compile(r\"(ras le bol)+\")                # pb ras le bol\n",
    "\n",
    "start = time()\n",
    "corpus_ras_le_bol = []\n",
    "for ele in corpus:\n",
    "    result = re_raslebol.sub('mauvais', ele)\n",
    "    corpus_ras_le_bol.append(result) \n",
    "end = time()\n",
    "print(\"temps écoulé = \",end-start)\n",
    "\n",
    "\n",
    "# trouver les 'r.a.s' ou 'r.à.s' ou 'r.a.d' ou 'r.à.d' et convertir en 'bien'\n",
    "start = time()\n",
    "corpus_ras = []\n",
    "for ele in corpus_ras_le_bol:                          # list_test remplacé par corpus pour test     OK BON\n",
    "    result = re_ras_points.sub('bien', ele)\n",
    "    corpus_ras.append(result)\n",
    "end = time()\n",
    "print(\"temps écoulé = \",end-start)\n",
    "\n",
    "    \n",
    "# trouver les 'r a s ' ou  ' r à s' ou 'r à d' ou 'r a d' et convertir en 'bien'\n",
    "start = time()\n",
    "corpus_ras2 = []\n",
    "for ele in corpus_ras:                          # list_test remplacé par corpus pour test     OK BON\n",
    "    result = re_r_a_s.sub('bien', ele)\n",
    "    corpus_ras2.append(result)\n",
    "end = time()\n",
    "print(\"temps écoulé = \",end-start)\n",
    "\n",
    "# trouver les 'ras' ou 'ràs' ou 'rad' ou 'ràd' et convertir en 'bien'\n",
    "start = time()\n",
    "corpus_ras3 = []\n",
    "for ele in corpus_ras2:                          # list_test remplacé par corpus pour test     OK BON\n",
    "    result = re_ras.sub('bien', ele)\n",
    "    corpus_ras3.append(result)\n",
    "end = time()\n",
    "print(\"temps écoulé = \",end-start)\n",
    "\n",
    "# remplacement 'ras',  'r a s' et 'ras le bol' terminé à ce stade  ET commentaires traités placés dans 'corpus_ras3' \n",
    "# bascule du traitement dans corpus\n",
    "corpus = corpus_ras3"
   ]
  },
  {
   "cell_type": "code",
   "execution_count": 63,
   "id": "ec0040b7",
   "metadata": {},
   "outputs": [
    {
     "name": "stdout",
     "output_type": "stream",
     "text": [
      "non traité :  r.a.s  et traité :  bien\n",
      "non traité :  r à s  et traité :  bien\n",
      "non traité :  qualité vêtements très moyenne ! ! ! autrement ras  et traité :  qualité vêtements très moyenne ! ! ! autrement bien\n",
      "non traité :  un abonnement que j aurais du recevoir il y a deux mois .... et tjrs rien.le service abonnement me dit qu il n ont pas de trace de mon paiement et veepe me dit qu ils vont se renseigner .... ras le bol ! ! ! ! ! ! !  et traité :  un abonnement que j aurais du recevoir il y a deux mois .... et tjrs rien.le service abonnement me dit qu il n ont pas de trace de mon paiement et veepe me dit qu ils vont se renseigner .... mauvais ! ! ! ! ! ! !\n"
     ]
    }
   ],
   "source": [
    "# vérification avec lignes intéressantes remarquées sur data_ras\n",
    "print(\"non traité : \", data.Commentaire[17089], \" et traité : \",corpus[17089])  # exemple 'r.a.s'\n",
    "print(\"non traité : \", data.Commentaire[5918], \" et traité : \",corpus[5918])    # exemple ' r à s '\n",
    "print(\"non traité : \", data.Commentaire[5217], \" et traité : \",corpus[5217])    # exemple ' ras'\n",
    "print(\"non traité : \", data.Commentaire[14727], \" et traité : \",corpus[14727])  # exemple 'ras le bol '"
   ]
  },
  {
   "cell_type": "code",
   "execution_count": 64,
   "id": "73b7dc4a",
   "metadata": {},
   "outputs": [
    {
     "data": {
      "text/html": [
       "<div>\n",
       "<style scoped>\n",
       "    .dataframe tbody tr th:only-of-type {\n",
       "        vertical-align: middle;\n",
       "    }\n",
       "\n",
       "    .dataframe tbody tr th {\n",
       "        vertical-align: top;\n",
       "    }\n",
       "\n",
       "    .dataframe thead th {\n",
       "        text-align: right;\n",
       "    }\n",
       "</style>\n",
       "<table border=\"1\" class=\"dataframe\">\n",
       "  <thead>\n",
       "    <tr style=\"text-align: right;\">\n",
       "      <th></th>\n",
       "      <th>Commentaire</th>\n",
       "      <th>star</th>\n",
       "      <th>source</th>\n",
       "      <th>company</th>\n",
       "      <th>index_org</th>\n",
       "      <th>star_org</th>\n",
       "      <th>date</th>\n",
       "      <th>mask_ras</th>\n",
       "    </tr>\n",
       "  </thead>\n",
       "  <tbody>\n",
       "    <tr>\n",
       "      <th>0</th>\n",
       "      <td>bonjour , ca doit faire 5 ans environ que je suis membre showrooprive . je n ’ ai jamais eu de s...</td>\n",
       "      <td>0</td>\n",
       "      <td>TrustPilot</td>\n",
       "      <td>ShowRoom</td>\n",
       "      <td>0</td>\n",
       "      <td>1</td>\n",
       "      <td>2021-06-20 00:00:00+00:00</td>\n",
       "      <td>False</td>\n",
       "    </tr>\n",
       "    <tr>\n",
       "      <th>1</th>\n",
       "      <td>vente lacoste article manquant photo prise sur 6 articles la moitié livrée sans explication manq...</td>\n",
       "      <td>0</td>\n",
       "      <td>TrustPilot</td>\n",
       "      <td>ShowRoom</td>\n",
       "      <td>1</td>\n",
       "      <td>1</td>\n",
       "      <td>2021-06-20 00:00:00+00:00</td>\n",
       "      <td>False</td>\n",
       "    </tr>\n",
       "    <tr>\n",
       "      <th>2</th>\n",
       "      <td>vente lacoste honteuse , article erroné , article manquant , pas de bon de livraison , retard et...</td>\n",
       "      <td>0</td>\n",
       "      <td>TrustPilot</td>\n",
       "      <td>ShowRoom</td>\n",
       "      <td>2</td>\n",
       "      <td>1</td>\n",
       "      <td>2021-06-19 00:00:00+00:00</td>\n",
       "      <td>False</td>\n",
       "    </tr>\n",
       "  </tbody>\n",
       "</table>\n",
       "</div>"
      ],
      "text/plain": [
       "                                                                                           Commentaire  \\\n",
       "0  bonjour , ca doit faire 5 ans environ que je suis membre showrooprive . je n ’ ai jamais eu de s...   \n",
       "1  vente lacoste article manquant photo prise sur 6 articles la moitié livrée sans explication manq...   \n",
       "2  vente lacoste honteuse , article erroné , article manquant , pas de bon de livraison , retard et...   \n",
       "\n",
       "   star      source   company  index_org  star_org                       date  mask_ras  \n",
       "0     0  TrustPilot  ShowRoom          0         1  2021-06-20 00:00:00+00:00     False  \n",
       "1     0  TrustPilot  ShowRoom          1         1  2021-06-20 00:00:00+00:00     False  \n",
       "2     0  TrustPilot  ShowRoom          2         1  2021-06-19 00:00:00+00:00     False  "
      ]
     },
     "execution_count": 64,
     "metadata": {},
     "output_type": "execute_result"
    }
   ],
   "source": [
    "data.head(3)"
   ]
  },
  {
   "cell_type": "markdown",
   "id": "f1a28c4d",
   "metadata": {},
   "source": [
    "## Tokenisation corpus_tk\n",
    "- stop ponctuations, nombres et smileys et liste de mots en laissant tous les accents et lettres spéciales minuscules\n"
   ]
  },
  {
   "cell_type": "code",
   "execution_count": 65,
   "id": "37067fb8",
   "metadata": {},
   "outputs": [
    {
     "name": "stdout",
     "output_type": "stream",
     "text": [
      "temps écoulé =  0.5739998817443848\n",
      "1er total des mots après tokenisation :  691347\n"
     ]
    },
    {
     "data": {
      "text/html": [
       "<div>\n",
       "<style scoped>\n",
       "    .dataframe tbody tr th:only-of-type {\n",
       "        vertical-align: middle;\n",
       "    }\n",
       "\n",
       "    .dataframe tbody tr th {\n",
       "        vertical-align: top;\n",
       "    }\n",
       "\n",
       "    .dataframe thead th {\n",
       "        text-align: right;\n",
       "    }\n",
       "</style>\n",
       "<table border=\"1\" class=\"dataframe\">\n",
       "  <thead>\n",
       "    <tr style=\"text-align: right;\">\n",
       "      <th></th>\n",
       "      <th>Commentaire</th>\n",
       "      <th>star</th>\n",
       "      <th>source</th>\n",
       "      <th>company</th>\n",
       "      <th>index_org</th>\n",
       "      <th>star_org</th>\n",
       "      <th>date</th>\n",
       "      <th>mask_ras</th>\n",
       "      <th>tokens</th>\n",
       "      <th>total1</th>\n",
       "    </tr>\n",
       "  </thead>\n",
       "  <tbody>\n",
       "    <tr>\n",
       "      <th>13113</th>\n",
       "      <td>jusqu ' à aujourd'hui je n'ai pas encore reçu mon colis je n'ai suis pas contacté si c ' c'est a...</td>\n",
       "      <td>0</td>\n",
       "      <td>TrustedShop</td>\n",
       "      <td>ShowRoom</td>\n",
       "      <td>16102</td>\n",
       "      <td>1</td>\n",
       "      <td>2020-06-12</td>\n",
       "      <td>False</td>\n",
       "      <td>[jusqu, à, aujourd, hui, je, n, ai, pas, encore, reçu, mon, colis, je, n, ai, suis, pas, contact...</td>\n",
       "      <td>31</td>\n",
       "    </tr>\n",
       "    <tr>\n",
       "      <th>15085</th>\n",
       "      <td>site de confiance . délais de livraison un peu longs</td>\n",
       "      <td>1</td>\n",
       "      <td>TrustPilot</td>\n",
       "      <td>VeePee</td>\n",
       "      <td>18300</td>\n",
       "      <td>4</td>\n",
       "      <td>2019-06-08 00:00:00+00:00</td>\n",
       "      <td>False</td>\n",
       "      <td>[site, de, confiance, délais, de, livraison, un, peu, longs]</td>\n",
       "      <td>9</td>\n",
       "    </tr>\n",
       "  </tbody>\n",
       "</table>\n",
       "</div>"
      ],
      "text/plain": [
       "                                                                                               Commentaire  \\\n",
       "13113  jusqu ' à aujourd'hui je n'ai pas encore reçu mon colis je n'ai suis pas contacté si c ' c'est a...   \n",
       "15085                                                 site de confiance . délais de livraison un peu longs   \n",
       "\n",
       "       star       source   company  index_org  star_org                       date  mask_ras  \\\n",
       "13113     0  TrustedShop  ShowRoom      16102         1                 2020-06-12     False   \n",
       "15085     1   TrustPilot    VeePee      18300         4  2019-06-08 00:00:00+00:00     False   \n",
       "\n",
       "                                                                                                    tokens  \\\n",
       "13113  [jusqu, à, aujourd, hui, je, n, ai, pas, encore, reçu, mon, colis, je, n, ai, suis, pas, contact...   \n",
       "15085                                         [site, de, confiance, délais, de, livraison, un, peu, longs]   \n",
       "\n",
       "       total1  \n",
       "13113      31  \n",
       "15085       9  "
      ]
     },
     "execution_count": 65,
     "metadata": {},
     "output_type": "execute_result"
    }
   ],
   "source": [
    "# compiler et création liste de liste de token dans corpus_tk\n",
    "start = time()\n",
    "re_token = re.compile(r\"[^a-zéèêàâîïàùçôëûæœ]+\")                                \n",
    "corpus_tk=[]\n",
    "for line in corpus:\n",
    "    corpus_tk.append(re_token.split(line))                                    \n",
    "\n",
    "end = time()\n",
    "print(\"temps écoulé = \",end-start)\n",
    "\n",
    "# ajout colonne token à data\n",
    "data['tokens'] = pd.Series(corpus_tk)\n",
    "#  décompte des token \n",
    "total = []\n",
    "for i in range(data.shape[0]):\n",
    "    total.append(len(data['tokens'][i]))\n",
    "    \n",
    "# ajout de la colonne du total des tokens restants    \n",
    "data['total1'] = total   \n",
    "print(\"1er total des mots après tokenisation : \", data.total1.sum())            # 691.347 MOTS total 1  \n",
    "   \n",
    "# affichage de data\n",
    "data.sample(2)\n"
   ]
  },
  {
   "cell_type": "code",
   "execution_count": 67,
   "id": "150b72bf",
   "metadata": {},
   "outputs": [
    {
     "name": "stdout",
     "output_type": "stream",
     "text": [
      "2sd total des mots après élimination des tokens vides :  682825\n"
     ]
    }
   ],
   "source": [
    "# élimination des token vides créés après tokenisation à cause des ! ! ! par exemple\n",
    "clean_tk = []\n",
    "for row_list in corpus_tk:\n",
    "    clean_tk.append([ele for ele in row_list if len(ele) != 0])\n",
    "    \n",
    "# verif total token restant\n",
    "serie_clean_tk = pd.Series(clean_tk)\n",
    "#  décompte des token \n",
    "total = []\n",
    "for i in range(data.shape[0]):\n",
    "    total.append(len(serie_clean_tk[i]))\n",
    "    \n",
    "# calcul du total des tokens restants    \n",
    "total_clean_tk = pd.Series(total) \n",
    "print(\"2sd total des mots après élimination des tokens vides : \", total_clean_tk.sum())                     \n",
    "\n",
    "# pas de nouvelle colonne crée dans data donc réafectation de clean_tk dans corpus_tk    \n",
    "corpus_tk = clean_tk   \n"
   ]
  },
  {
   "cell_type": "markdown",
   "id": "1889ac6a",
   "metadata": {},
   "source": [
    "### Vérification visuelle de tous les tokens en 1 seule chaine STR"
   ]
  },
  {
   "cell_type": "code",
   "execution_count": 68,
   "id": "d752d69a",
   "metadata": {},
   "outputs": [
    {
     "name": "stdout",
     "output_type": "stream",
     "text": [
      "nombre de caractères au total =  3721753\n"
     ]
    },
    {
     "data": {
      "text/plain": [
       "'bonjour ca doit faire ans environ que je suis membre showrooprive je n ai jamais eu de soucis en particulier à part petites bricoles par contre depuis ces derniers mois une vraie catastrophe j ai eu commandes annulées d affiliés à se demander si les ventes sont bien réelles histoires de nous faire payer et que showroom joue avec notre argent en se faisant des intérêts bancaires sur notre dos la ère commande machines et cafés annulé mois après la e commande don t call me jennifer annulé mois après la e commande techwood annulé mois après je l apprends toujours par mail le même message bateau malgré tous les efforts bla bla bla bien évidemment pas de dédommagement ben non hein pourquoi faire je doute que ce site soit aussi fiable et sérieux qu au début au final je vais juste rester fidèle sur n autre site marchand très décevant plus du tout confiance je ne recommande plus du tout ce site et j en fais part à mon entourage et réseaux sociaux afin d éviter que d autres personnes connaissent ce même type d expérience vente lacoste article manquant photo prise sur articles la moitié livrée sans explication manque de respect numero de commande vente lacoste honteuse article erroné article manquant pas de bon de livraison retard et service client désastreux après deux appels désastreux je tenais à avertir les plus courageux qui oseront commander et contacter ce service client showroom fait dans le pire du pire attentions aux oreilles votre interlocuteur vous parle dans environnement très bruyant de type chantier coup de marteaux et jet de matériaux à proximité du micro vous demandez de faire cesser la nuisance on vous répond que non car ils vous entendent très bien erreur sur votre commande l interlocuteur ne vous crois pas il faut envoyer les captures d écran de sa commande pour les convaincre qu ils font bien n importe quoi la commande arrive en plusieurs fois pour une même vente retard article manquant et pas de bon livraison pour comprendre quoi que ce soit on ne sait ri'"
      ]
     },
     "execution_count": 68,
     "metadata": {},
     "output_type": "execute_result"
    }
   ],
   "source": [
    "# Combiner toutes les String de la liste\n",
    "corpus_tk_list = extend_list(corpus_tk)\n",
    "verif_corpus_tk = ' '.join(corpus_tk_list)\n",
    "print(\"nombre de caractères au total = \", len(verif_corpus_tk))\n",
    "# affichage d'une partie de la chaine totale ( modifiable à volonté pour vérif )\n",
    "verif_corpus_tk[:2000]  # ici les 2000 1er caractères affichés "
   ]
  },
  {
   "cell_type": "markdown",
   "id": "b2ac9d65",
   "metadata": {},
   "source": [
    "## Lemmatisation des mots Français"
   ]
  },
  {
   "cell_type": "markdown",
   "id": "ad632846",
   "metadata": {},
   "source": [
    "- test lemmatisation avant lancement sur corpus"
   ]
  },
  {
   "cell_type": "code",
   "execution_count": 69,
   "id": "e36bf3a4",
   "metadata": {},
   "outputs": [],
   "source": [
    "# utilisation du module spacy importé"
   ]
  },
  {
   "cell_type": "code",
   "execution_count": 70,
   "id": "b260c9cc",
   "metadata": {},
   "outputs": [
    {
     "name": "stdout",
     "output_type": "stream",
     "text": [
      "voudrais vouloir\n",
      "non non\n",
      "animaux animal\n",
      "yeux yeux\n",
      "dors dormir\n",
      "couvre couvrir\n",
      ". .\n",
      "vente vente\n",
      "lacoste lacost\n",
      "article article\n",
      "manquant manquant\n",
      "photo photo\n",
      "prise prendre\n",
      "sur sur\n",
      "articles article\n",
      "la le\n",
      "moitié moitié\n",
      "livrée livrer\n",
      "sans sans\n",
      "explication explication\n",
      "manque manqu\n",
      "de de\n",
      "respect respect\n",
      "numero numero\n",
      "de de\n",
      "commande commande\n"
     ]
    }
   ],
   "source": [
    "nlp = spacy.load('fr_core_news_md')\n",
    "\n",
    "doc = nlp(u\"voudrais non animaux yeux dors couvre.\")\n",
    "for token in doc:\n",
    "    print(token, token.lemma_) \n",
    "    \n",
    "doc2 = nlp(\" \".join(corpus_tk[1]))\n",
    "for token in doc2:\n",
    "    print(token, token.lemma_)\n"
   ]
  },
  {
   "cell_type": "code",
   "execution_count": 71,
   "id": "940b715e",
   "metadata": {},
   "outputs": [
    {
     "name": "stdout",
     "output_type": "stream",
     "text": [
      "temps écoulé =  416.840270280838\n"
     ]
    }
   ],
   "source": [
    "# Lemmatisation sur vrai data_set corpus_mot\n",
    "\n",
    "start = time()\n",
    "corpus_lem = []\n",
    "for line_com in corpus_tk:\n",
    "    liste = []\n",
    "    doc = nlp(\" \".join(line_com))\n",
    "    for token in doc:\n",
    "        liste.append(token.lemma_)\n",
    "    corpus_lem.append(liste)     \n",
    "end = time()\n",
    "print(\"temps écoulé = \", end-start)                                             # LEMMATISATION TEMPS environ 6 MINUTES !!!"
   ]
  },
  {
   "cell_type": "code",
   "execution_count": 72,
   "id": "737b2eab",
   "metadata": {},
   "outputs": [
    {
     "name": "stdout",
     "output_type": "stream",
     "text": [
      "total des mots après lemmatisation :  682825\n"
     ]
    },
    {
     "data": {
      "text/html": [
       "<div>\n",
       "<style scoped>\n",
       "    .dataframe tbody tr th:only-of-type {\n",
       "        vertical-align: middle;\n",
       "    }\n",
       "\n",
       "    .dataframe tbody tr th {\n",
       "        vertical-align: top;\n",
       "    }\n",
       "\n",
       "    .dataframe thead th {\n",
       "        text-align: right;\n",
       "    }\n",
       "</style>\n",
       "<table border=\"1\" class=\"dataframe\">\n",
       "  <thead>\n",
       "    <tr style=\"text-align: right;\">\n",
       "      <th></th>\n",
       "      <th>Commentaire</th>\n",
       "      <th>star</th>\n",
       "      <th>source</th>\n",
       "      <th>company</th>\n",
       "      <th>index_org</th>\n",
       "      <th>star_org</th>\n",
       "      <th>date</th>\n",
       "      <th>mask_ras</th>\n",
       "      <th>tokens</th>\n",
       "      <th>total1</th>\n",
       "      <th>lemmatiser</th>\n",
       "      <th>tot_lem</th>\n",
       "    </tr>\n",
       "  </thead>\n",
       "  <tbody>\n",
       "    <tr>\n",
       "      <th>4148</th>\n",
       "      <td>commande non conforme ce n est pas ce sac que j ai commandé donc retour merci</td>\n",
       "      <td>1</td>\n",
       "      <td>TrustedShop</td>\n",
       "      <td>ShowRoom</td>\n",
       "      <td>5222</td>\n",
       "      <td>3</td>\n",
       "      <td>2020-12-05</td>\n",
       "      <td>False</td>\n",
       "      <td>[commande, non, conforme, ce, n, est, pas, ce, sac, que, j, ai, commandé, donc, retour, merci]</td>\n",
       "      <td>16</td>\n",
       "      <td>[commande, non, conforme, ce, n, être, pas, ce, sac, que, j, avoir, commander, donc, retour, merci]</td>\n",
       "      <td>16</td>\n",
       "    </tr>\n",
       "    <tr>\n",
       "      <th>15315</th>\n",
       "      <td>site de vente avec des faux prix . il ont etait epinglé a se sujet . sav pas serieux du tout</td>\n",
       "      <td>0</td>\n",
       "      <td>TrustPilot</td>\n",
       "      <td>VeePee</td>\n",
       "      <td>18557</td>\n",
       "      <td>1</td>\n",
       "      <td>2019-03-04 00:00:00+00:00</td>\n",
       "      <td>False</td>\n",
       "      <td>[site, de, vente, avec, des, faux, prix, il, ont, etait, epinglé, a, se, sujet, sav, pas, serieu...</td>\n",
       "      <td>19</td>\n",
       "      <td>[site, de, vente, avec, un, faux, prix, il, avoir, etait, epinglé, avoir, se, sujet, sav, pas, s...</td>\n",
       "      <td>19</td>\n",
       "    </tr>\n",
       "    <tr>\n",
       "      <th>14240</th>\n",
       "      <td>site sérieux avec une grande diversité de produits et de bonne qualité , il arrive parfois qu ’ ...</td>\n",
       "      <td>1</td>\n",
       "      <td>TrustPilot</td>\n",
       "      <td>VeePee</td>\n",
       "      <td>17425</td>\n",
       "      <td>4</td>\n",
       "      <td>2020-08-08 00:00:00+00:00</td>\n",
       "      <td>False</td>\n",
       "      <td>[site, sérieux, avec, une, grande, diversité, de, produits, et, de, bonne, qualité, il, arrive, ...</td>\n",
       "      <td>87</td>\n",
       "      <td>[site, sérieux, avec, un, grand, diversité, de, produit, et, de, bon, qualité, il, arrive, parfo...</td>\n",
       "      <td>86</td>\n",
       "    </tr>\n",
       "    <tr>\n",
       "      <th>16881</th>\n",
       "      <td>ras</td>\n",
       "      <td>1</td>\n",
       "      <td>TrustedShop</td>\n",
       "      <td>ShowRoom</td>\n",
       "      <td>9590</td>\n",
       "      <td>5</td>\n",
       "      <td>2020-07-31</td>\n",
       "      <td>True</td>\n",
       "      <td>[bien]</td>\n",
       "      <td>1</td>\n",
       "      <td>[bien]</td>\n",
       "      <td>1</td>\n",
       "    </tr>\n",
       "    <tr>\n",
       "      <th>8190</th>\n",
       "      <td>il manque un article dans la commande sans possibilité de me le renvoyer alors que j ’ ai été dé...</td>\n",
       "      <td>0</td>\n",
       "      <td>TrustedShop</td>\n",
       "      <td>ShowRoom</td>\n",
       "      <td>10208</td>\n",
       "      <td>2</td>\n",
       "      <td>2020-07-24</td>\n",
       "      <td>False</td>\n",
       "      <td>[il, manque, un, article, dans, la, commande, sans, possibilité, de, me, le, renvoyer, alors, qu...</td>\n",
       "      <td>22</td>\n",
       "      <td>[il, manque, un, article, dans, le, commande, sans, possibilité, de, me, le, renvoyer, alors, qu...</td>\n",
       "      <td>22</td>\n",
       "    </tr>\n",
       "    <tr>\n",
       "      <th>14389</th>\n",
       "      <td>retour d'article compliquétout sur fait pour vous dissuader de renvoyer l'article-l'option de re...</td>\n",
       "      <td>0</td>\n",
       "      <td>TrustPilot</td>\n",
       "      <td>VeePee</td>\n",
       "      <td>17575</td>\n",
       "      <td>1</td>\n",
       "      <td>2020-06-27 00:00:00+00:00</td>\n",
       "      <td>False</td>\n",
       "      <td>[retour, d, article, compliquétout, sur, fait, pour, vous, dissuader, de, renvoyer, l, article, ...</td>\n",
       "      <td>57</td>\n",
       "      <td>[retour, d, article, compliquétout, sur, fait, pour, vous, dissuader, de, renvoyer, l, article, ...</td>\n",
       "      <td>57</td>\n",
       "    </tr>\n",
       "    <tr>\n",
       "      <th>14450</th>\n",
       "      <td>il y a beaucoup de mensonge lorsqu'on veut annuler des articles luxueux . impossible de renvoyer...</td>\n",
       "      <td>0</td>\n",
       "      <td>TrustPilot</td>\n",
       "      <td>VeePee</td>\n",
       "      <td>17637</td>\n",
       "      <td>1</td>\n",
       "      <td>2020-06-11 00:00:00+00:00</td>\n",
       "      <td>False</td>\n",
       "      <td>[il, y, a, beaucoup, de, mensonge, lorsqu, on, veut, annuler, des, articles, luxueux, impossible...</td>\n",
       "      <td>72</td>\n",
       "      <td>[il, y, avoir, beaucoup, de, mensonge, lorsqu, on, vouloir, annuler, un, article, luxueux, impos...</td>\n",
       "      <td>71</td>\n",
       "    </tr>\n",
       "    <tr>\n",
       "      <th>1011</th>\n",
       "      <td>c'est le comble .j'ai commandé des écouteurs sans fil , et a la place je reçois une vitre pour i...</td>\n",
       "      <td>0</td>\n",
       "      <td>TrustPilot</td>\n",
       "      <td>ShowRoom</td>\n",
       "      <td>1054</td>\n",
       "      <td>1</td>\n",
       "      <td>2020-10-12 00:00:00+00:00</td>\n",
       "      <td>False</td>\n",
       "      <td>[c, est, le, comble, j, ai, commandé, des, écouteurs, sans, fil, et, a, la, place, je, reçois, u...</td>\n",
       "      <td>75</td>\n",
       "      <td>[c, être, le, comble, j, avoir, commander, un, écouteur, sans, fil, et, avoir, le, place, je, re...</td>\n",
       "      <td>75</td>\n",
       "    </tr>\n",
       "    <tr>\n",
       "      <th>14713</th>\n",
       "      <td>vraiment pas sérieux du tout annule des commande sans prévenir long a se faire rembourser grosse...</td>\n",
       "      <td>0</td>\n",
       "      <td>TrustPilot</td>\n",
       "      <td>VeePee</td>\n",
       "      <td>17924</td>\n",
       "      <td>1</td>\n",
       "      <td>2020-01-12 00:00:00+00:00</td>\n",
       "      <td>False</td>\n",
       "      <td>[vraiment, pas, sérieux, du, tout, annule, des, commande, sans, prévenir, long, a, se, faire, re...</td>\n",
       "      <td>28</td>\n",
       "      <td>[vraiment, pas, sérieux, de, tout, annule, de, commande, sans, prévenir, long, avoir, se, faire,...</td>\n",
       "      <td>27</td>\n",
       "    </tr>\n",
       "    <tr>\n",
       "      <th>2377</th>\n",
       "      <td>très contente de mes commande merci beaucoup</td>\n",
       "      <td>1</td>\n",
       "      <td>TrustedShop</td>\n",
       "      <td>ShowRoom</td>\n",
       "      <td>2598</td>\n",
       "      <td>5</td>\n",
       "      <td>2021-05-17</td>\n",
       "      <td>False</td>\n",
       "      <td>[très, contente, de, mes, commande, merci, beaucoup]</td>\n",
       "      <td>7</td>\n",
       "      <td>[très, content, de, mon, commande, merci, beaucoup]</td>\n",
       "      <td>7</td>\n",
       "    </tr>\n",
       "  </tbody>\n",
       "</table>\n",
       "</div>"
      ],
      "text/plain": [
       "                                                                                               Commentaire  \\\n",
       "4148                         commande non conforme ce n est pas ce sac que j ai commandé donc retour merci   \n",
       "15315         site de vente avec des faux prix . il ont etait epinglé a se sujet . sav pas serieux du tout   \n",
       "14240  site sérieux avec une grande diversité de produits et de bonne qualité , il arrive parfois qu ’ ...   \n",
       "16881                                                                                                  ras   \n",
       "8190   il manque un article dans la commande sans possibilité de me le renvoyer alors que j ’ ai été dé...   \n",
       "14389  retour d'article compliquétout sur fait pour vous dissuader de renvoyer l'article-l'option de re...   \n",
       "14450  il y a beaucoup de mensonge lorsqu'on veut annuler des articles luxueux . impossible de renvoyer...   \n",
       "1011   c'est le comble .j'ai commandé des écouteurs sans fil , et a la place je reçois une vitre pour i...   \n",
       "14713  vraiment pas sérieux du tout annule des commande sans prévenir long a se faire rembourser grosse...   \n",
       "2377                                                          très contente de mes commande merci beaucoup   \n",
       "\n",
       "       star       source   company  index_org  star_org                       date  mask_ras  \\\n",
       "4148      1  TrustedShop  ShowRoom       5222         3                 2020-12-05     False   \n",
       "15315     0   TrustPilot    VeePee      18557         1  2019-03-04 00:00:00+00:00     False   \n",
       "14240     1   TrustPilot    VeePee      17425         4  2020-08-08 00:00:00+00:00     False   \n",
       "16881     1  TrustedShop  ShowRoom       9590         5                 2020-07-31      True   \n",
       "8190      0  TrustedShop  ShowRoom      10208         2                 2020-07-24     False   \n",
       "14389     0   TrustPilot    VeePee      17575         1  2020-06-27 00:00:00+00:00     False   \n",
       "14450     0   TrustPilot    VeePee      17637         1  2020-06-11 00:00:00+00:00     False   \n",
       "1011      0   TrustPilot  ShowRoom       1054         1  2020-10-12 00:00:00+00:00     False   \n",
       "14713     0   TrustPilot    VeePee      17924         1  2020-01-12 00:00:00+00:00     False   \n",
       "2377      1  TrustedShop  ShowRoom       2598         5                 2021-05-17     False   \n",
       "\n",
       "                                                                                                    tokens  \\\n",
       "4148        [commande, non, conforme, ce, n, est, pas, ce, sac, que, j, ai, commandé, donc, retour, merci]   \n",
       "15315  [site, de, vente, avec, des, faux, prix, il, ont, etait, epinglé, a, se, sujet, sav, pas, serieu...   \n",
       "14240  [site, sérieux, avec, une, grande, diversité, de, produits, et, de, bonne, qualité, il, arrive, ...   \n",
       "16881                                                                                               [bien]   \n",
       "8190   [il, manque, un, article, dans, la, commande, sans, possibilité, de, me, le, renvoyer, alors, qu...   \n",
       "14389  [retour, d, article, compliquétout, sur, fait, pour, vous, dissuader, de, renvoyer, l, article, ...   \n",
       "14450  [il, y, a, beaucoup, de, mensonge, lorsqu, on, veut, annuler, des, articles, luxueux, impossible...   \n",
       "1011   [c, est, le, comble, j, ai, commandé, des, écouteurs, sans, fil, et, a, la, place, je, reçois, u...   \n",
       "14713  [vraiment, pas, sérieux, du, tout, annule, des, commande, sans, prévenir, long, a, se, faire, re...   \n",
       "2377                                                  [très, contente, de, mes, commande, merci, beaucoup]   \n",
       "\n",
       "       total1  \\\n",
       "4148       16   \n",
       "15315      19   \n",
       "14240      87   \n",
       "16881       1   \n",
       "8190       22   \n",
       "14389      57   \n",
       "14450      72   \n",
       "1011       75   \n",
       "14713      28   \n",
       "2377        7   \n",
       "\n",
       "                                                                                                lemmatiser  \\\n",
       "4148   [commande, non, conforme, ce, n, être, pas, ce, sac, que, j, avoir, commander, donc, retour, merci]   \n",
       "15315  [site, de, vente, avec, un, faux, prix, il, avoir, etait, epinglé, avoir, se, sujet, sav, pas, s...   \n",
       "14240  [site, sérieux, avec, un, grand, diversité, de, produit, et, de, bon, qualité, il, arrive, parfo...   \n",
       "16881                                                                                               [bien]   \n",
       "8190   [il, manque, un, article, dans, le, commande, sans, possibilité, de, me, le, renvoyer, alors, qu...   \n",
       "14389  [retour, d, article, compliquétout, sur, fait, pour, vous, dissuader, de, renvoyer, l, article, ...   \n",
       "14450  [il, y, avoir, beaucoup, de, mensonge, lorsqu, on, vouloir, annuler, un, article, luxueux, impos...   \n",
       "1011   [c, être, le, comble, j, avoir, commander, un, écouteur, sans, fil, et, avoir, le, place, je, re...   \n",
       "14713  [vraiment, pas, sérieux, de, tout, annule, de, commande, sans, prévenir, long, avoir, se, faire,...   \n",
       "2377                                                   [très, content, de, mon, commande, merci, beaucoup]   \n",
       "\n",
       "       tot_lem  \n",
       "4148        16  \n",
       "15315       19  \n",
       "14240       86  \n",
       "16881        1  \n",
       "8190        22  \n",
       "14389       57  \n",
       "14450       71  \n",
       "1011        75  \n",
       "14713       27  \n",
       "2377         7  "
      ]
     },
     "execution_count": 72,
     "metadata": {},
     "output_type": "execute_result"
    }
   ],
   "source": [
    "data['lemmatiser'] = pd.Series(corpus_lem)\n",
    "#  décompte des token \n",
    "total = []\n",
    "for i in range(data.shape[0]):\n",
    "    total.append(len(data['lemmatiser'][i])) \n",
    "# ajout de la colonne du total des mots lemmentisés   \n",
    "data['tot_lem'] = total   \n",
    "print(\"total des mots après lemmatisation : \", data.tot_lem.sum())               # 682.825  total lemmatisation\n",
    "data.sample(10)"
   ]
  },
  {
   "cell_type": "markdown",
   "id": "efedc96f",
   "metadata": {},
   "source": [
    "- la lemmatisation marche bien es, est sommes = être, ai, a as = avoir, la, les = le etc...\n",
    "- problème pour 'j' ne devient pas 'je' mais pas grave puisque élimination moins de 3 lettres ensuite\n",
    "- les verbre passent tous à l'infinitif ..."
   ]
  },
  {
   "cell_type": "code",
   "execution_count": 73,
   "id": "855ce669",
   "metadata": {},
   "outputs": [],
   "source": [
    "\"\"\" lemmatiser prend du temps => voir pour sauvegarde \"\"\"\n",
    "data.to_csv('review_trust_fr_lemmantiser_VF-20-09-22.csv')"
   ]
  },
  {
   "cell_type": "markdown",
   "id": "d4a13e20",
   "metadata": {},
   "source": [
    "### retirer les tokens de moins de 2 lettres"
   ]
  },
  {
   "cell_type": "code",
   "execution_count": 74,
   "id": "5df6a1d8",
   "metadata": {},
   "outputs": [
    {
     "name": "stdout",
     "output_type": "stream",
     "text": [
      "total des mots après filtrage mots de 2 lettres ou + :  464241\n"
     ]
    },
    {
     "data": {
      "text/html": [
       "<div>\n",
       "<style scoped>\n",
       "    .dataframe tbody tr th:only-of-type {\n",
       "        vertical-align: middle;\n",
       "    }\n",
       "\n",
       "    .dataframe tbody tr th {\n",
       "        vertical-align: top;\n",
       "    }\n",
       "\n",
       "    .dataframe thead th {\n",
       "        text-align: right;\n",
       "    }\n",
       "</style>\n",
       "<table border=\"1\" class=\"dataframe\">\n",
       "  <thead>\n",
       "    <tr style=\"text-align: right;\">\n",
       "      <th></th>\n",
       "      <th>Commentaire</th>\n",
       "      <th>star</th>\n",
       "      <th>source</th>\n",
       "      <th>company</th>\n",
       "      <th>index_org</th>\n",
       "      <th>star_org</th>\n",
       "      <th>date</th>\n",
       "      <th>mask_ras</th>\n",
       "      <th>tokens</th>\n",
       "      <th>total1</th>\n",
       "      <th>lemmatiser</th>\n",
       "      <th>tot_lem</th>\n",
       "      <th>words+2</th>\n",
       "      <th>tot_+2</th>\n",
       "    </tr>\n",
       "  </thead>\n",
       "  <tbody>\n",
       "    <tr>\n",
       "      <th>12410</th>\n",
       "      <td>le colis arrivé incomplet . faudrait mieux peut-être d'envoyer 4 grands produits avec un transpo...</td>\n",
       "      <td>1</td>\n",
       "      <td>TrustedShop</td>\n",
       "      <td>ShowRoom</td>\n",
       "      <td>15234</td>\n",
       "      <td>3</td>\n",
       "      <td>2020-06-16</td>\n",
       "      <td>False</td>\n",
       "      <td>[le, colis, arrivé, incomplet, faudrait, mieux, peut, être, d, envoyer, grands, produits, avec, ...</td>\n",
       "      <td>32</td>\n",
       "      <td>[le, colis, arriver, incomplet, falloir, mieux, pouvoir, être, d, envoyer, grand, produit, avec,...</td>\n",
       "      <td>31</td>\n",
       "      <td>[colis, arriver, incomplet, falloir, mieux, pouvoir, être, envoyer, grand, produit, avec, transp...</td>\n",
       "      <td>23</td>\n",
       "    </tr>\n",
       "  </tbody>\n",
       "</table>\n",
       "</div>"
      ],
      "text/plain": [
       "                                                                                               Commentaire  \\\n",
       "12410  le colis arrivé incomplet . faudrait mieux peut-être d'envoyer 4 grands produits avec un transpo...   \n",
       "\n",
       "       star       source   company  index_org  star_org        date  mask_ras  \\\n",
       "12410     1  TrustedShop  ShowRoom      15234         3  2020-06-16     False   \n",
       "\n",
       "                                                                                                    tokens  \\\n",
       "12410  [le, colis, arrivé, incomplet, faudrait, mieux, peut, être, d, envoyer, grands, produits, avec, ...   \n",
       "\n",
       "       total1  \\\n",
       "12410      32   \n",
       "\n",
       "                                                                                                lemmatiser  \\\n",
       "12410  [le, colis, arriver, incomplet, falloir, mieux, pouvoir, être, d, envoyer, grand, produit, avec,...   \n",
       "\n",
       "       tot_lem  \\\n",
       "12410       31   \n",
       "\n",
       "                                                                                                   words+2  \\\n",
       "12410  [colis, arriver, incomplet, falloir, mieux, pouvoir, être, envoyer, grand, produit, avec, transp...   \n",
       "\n",
       "       tot_+2  \n",
       "12410      23  "
      ]
     },
     "execution_count": 74,
     "metadata": {},
     "output_type": "execute_result"
    }
   ],
   "source": [
    "# retirer les tokens de moins de 2 lettres\n",
    "corpus_sw = [[mot for mot in line_com if len(mot) > 2] for line_com in corpus_lem]  \n",
    "# ajouter colonne résultat à data\n",
    "corpus_sw_serie = pd.Series(corpus_sw)\n",
    "data['words+2'] = corpus_sw_serie\n",
    "#  décompte des tokens restants \n",
    "total = []\n",
    "for i in range(data.shape[0]):\n",
    "    total.append(len(data['words+2'][i])) \n",
    "# ajout de la colonne du total des tokens restants    \n",
    "data['tot_+2'] = total    \n",
    "\n",
    "print(\"total des mots après filtrage mots de 2 lettres ou + : \", data['tot_+2'].sum())  # 464.241 mots\n",
    "data.sample(1)"
   ]
  },
  {
   "cell_type": "markdown",
   "id": "252056ec",
   "metadata": {},
   "source": [
    "## No Stop Words"
   ]
  },
  {
   "cell_type": "markdown",
   "id": "5082f7a4",
   "metadata": {},
   "source": [
    "- liste des token par fréquence + analyser + aide pour remplir le xls de stop_word\n",
    " avec corpus_sw_serie + simple car serie de liste par rapport à corpus_sw qui est une liste de liste"
   ]
  },
  {
   "cell_type": "code",
   "execution_count": 75,
   "id": "c7feaa4c",
   "metadata": {},
   "outputs": [
    {
     "name": "stdout",
     "output_type": "stream",
     "text": [
      "13662\n",
      "[('être', 22603), ('avoir', 20174), ('pas', 10583), ('que', 9834), ('pour', 7517), ('mon', 7443), ('commande', 7299), ('sur', 5220), ('livraison', 5100), ('très', 5052), ('plus', 4800), ('qui', 4169), ('faire', 4166), ('mais', 3838), ('recevoir', 3712), ('client', 3594), ('produit', 3533), ('bien', 3531), ('vous', 3443), ('site', 3438), ('colis', 3337), ('article', 3307), ('service', 3299), ('tout', 3174), ('dans', 2850), ('commander', 2782), ('vente', 2772), ('avec', 2752), ('bon', 2751), ('par', 2523), ('dire', 2374), ('rien', 2065), ('même', 2058), ('leur', 2032), ('remboursement', 2018), ('jour', 1895), ('cela', 1887), ('toujours', 1861), ('aucun', 1858), ('mois', 1852), ('après', 1821), ('fois', 1757), ('lui', 1732), ('retour', 1730), ('livrer', 1721), ('donc', 1705), ('aller', 1696), ('car', 1683), ('nous', 1643), ('mail', 1616), ('jamais', 1581), ('depuis', 1444), ('attendre', 1434), ('passer', 1425), ('priver', 1409), ('autre', 1359), ('achat', 1336), ('votre', 1327), ('sans', 1319), ('devoir', 1312), ('rembourser', 1290), ('frais', 1225), ('non', 1183), ('trop', 1153), ('acheter', 1084), ('décevoir', 1044), ('envoyer', 1017), ('son', 964), ('deux', 957), ('euro', 943), ('merci', 935), ('showroom', 925), ('marque', 886), ('prendre', 872), ('quand', 855), ('plusieurs', 842), ('photo', 837), ('savoir', 829), ('encore', 813), ('semaine', 801), ('petit', 789), ('payer', 788), ('dernier', 785), ('part', 755), ('date', 755), ('falloir', 749), ('prévoir', 743), ('renvoyer', 725), ('répondre', 719), ('attente', 718), ('mettre', 704), ('point', 636), ('demander', 628), ('annuler', 604), ('erreur', 603), ('téléphone', 590), ('appel', 580), ('personne', 578), ('fuir', 576), ('super', 560), ('beaucoup', 557), ('bonjour', 554), ('contacter', 552), ('recommande', 550), ('sav', 547), ('impossible', 530), ('retard', 523), ('déçu', 516), ('argent', 513), ('déjà', 507), ('notre', 460), ('bref', 445), ('gros', 428), ('juste', 424), ('malgré', 422), ('aussi', 407), ('arnaque', 396), ('surtout', 390), ('sous', 387), ('vêtement', 378), ('commercial', 376), ('stock', 373), ('souci', 363), ('contre', 350), ('couleur', 346), ('arrive', 339), ('expérience', 338), ('comprendre', 335), ('proposer', 333), ('coup', 317), ('geste', 313), ('sérieux', 312), ('quoi', 304), ('lors', 298), ('juin', 290), ('message', 287), ('nul', 282), ('éviter', 281), ('début', 271), ('attention', 260), ('jusqu', 260), ('inadmissible', 257), ('lieu', 257), ('produire', 245), ('numéro', 243), ('récupérer', 238), ('tenir', 236), ('suivi', 232), ('fournisseur', 223), ('obtenir', 221), ('expédier', 219), ('pire', 214), ('affaire', 213), ('contente', 212), ('utiliser', 210), ('croire', 207), ('annulation', 203), ('vrai', 200), ('espérer', 197), ('mieux', 196), ('manquant', 194), ('final', 192), ('pourquoi', 191), ('charge', 191), ('bas', 188), ('avril', 186), ('étoile', 183), ('valoir', 182), ('moyen', 178), ('explication', 170), ('étiquette', 170), ('question', 167), ('honteux', 164), ('afin', 163), ('lire', 158), ('fidèle', 152), ('confiance', 152), ('lamentable', 152), ('moitié', 149), ('côté', 145), ('rester', 144), ('reprise', 144), ('respect', 141), ('via', 141), ('dédommagement', 136), ('connaître', 136), ('évidemment', 134), ('résultat', 130), ('noir', 128), ('entendre', 126), ('extrêmement', 125), ('importe', 123), ('décevant', 119), ('oreille', 116), ('blanc', 101), ('relay', 100), ('promettre', 98), ('fonctionner', 90), ('mondial', 89), ('type', 88), ('manqu', 88), ('apprendre', 87), ('catastrophe', 85), ('environ', 83), ('doute', 82), ('prise', 81), ('trace', 81), ('fiable', 80), ('parle', 80), ('bancaire', 77), ('conseille', 73), ('ère', 70), ('chemin', 70), ('reconditionner', 70), ('interlocuteur', 68), ('iphone', 66), ('réel', 65), ('intérêt', 65), ('avertir', 58), ('écran', 58), ('dos', 54), ('histoire', 49), ('réparation', 49), ('coller', 48), ('marquer', 47), ('erroné', 43), ('détail', 43), ('partout', 43), ('poubelle', 42), ('bla', 41), ('réseau', 40), ('ben', 39), ('marchand', 39), ('effort', 38), ('rayer', 38), ('particulier', 37), ('désastreux', 35), ('pourrir', 34), ('batterie', 34), ('option', 33), ('bateau', 32), ('pro', 32), ('sale', 31), ('membre', 30), ('report', 29), ('ans', 26), ('entourage', 26), ('showroomprivee', 25), ('apple', 25), ('hormi', 24), ('combinaison', 24), ('transparent', 24), ('lacost', 22), ('social', 21), ('oser', 21), ('etat', 21), ('grade', 20), ('prs', 20), ('numero', 19), ('proximité', 17), ('vieux', 16), ('vetement', 16), ('joue', 14), ('incompréhensible', 13), ('deçu', 12), ('showroopriv', 11), ('capture', 11), ('contrôler', 11), ('déja', 10), ('convaincre', 9), ('mule', 9), ('tâche', 9), ('phone', 9), ('cesser', 8), ('matériau', 7), ('don', 6), ('hein', 5), ('environnement', 5), ('micro', 5), ('bruyant', 3), ('jennyfer', 3), ('bricole', 2), ('affilier', 2), ('cafés', 2), ('jennifer', 2), ('techwood', 2), ('jet', 2), ('recycle', 2), ('chair', 2), ('machiner', 1), ('call', 1), ('courageux', 1), ('chantier', 1), ('marteau', 1), ('nuisance', 1), ('moosefield', 1), ('inaudible', 1), ('diagonale', 1), ('dolore', 1), ('promesa', 1)]\n"
     ]
    }
   ],
   "source": [
    "# liste et décompte des tokens par fréquence ( liste non-ordonnée ici )\n",
    "corpus_decompte = extend_list(corpus_sw)\n",
    "list_token_freq = Counter(corpus_decompte)\n",
    "# conversion de cette liste et du décopte en dictionnaire\n",
    "dico = dict(list_token_freq)\n",
    "# restriction du dictionnaire pour affichage des 300 + grandes fréquences de tokens uniques\n",
    "restrict = dict(list(dico.items())[:300])                                           # 13.662 tokens distincts seulement !\n",
    "# info taille du dictionnaire = nombre de token distincts\n",
    "print(len(dico))\n",
    "# trie par ordre décroissant du dictionnaire\n",
    "sortedDict = sorted(restrict.items(), key=lambda x: x[1], reverse=True)\n",
    "# affichage du dictionnaire trié sur les valeurs désirées\n",
    "print(sortedDict)"
   ]
  },
  {
   "cell_type": "code",
   "execution_count": 76,
   "id": "d979c2aa",
   "metadata": {},
   "outputs": [
    {
     "data": {
      "text/plain": [
       "\"   \\nrestrict = dict(list(dico.items())[-300:]) nous donnera les 300 derniers tokens dont beaucoup en Anglais et d'autres sans langue à attribuer\\nil est important de revenir à un traitement après langid, pour élimner tous les mots non-français ( avant ou après tokenisation ), cela devrait augmenter\\nnos scores de prédiction\\n\""
      ]
     },
     "execution_count": 76,
     "metadata": {},
     "output_type": "execute_result"
    }
   ],
   "source": [
    "\"\"\"   \n",
    "restrict = dict(list(dico.items())[-300:]) nous donnera les 300 derniers tokens dont beaucoup en Anglais et d'autres sans langue à attribuer\n",
    "il est important de revenir à un traitement après langid, pour élimner tous les mots non-français ( avant ou après tokenisation ), cela devrait augmenter\n",
    "nos scores de prédiction\n",
    "\"\"\" "
   ]
  },
  {
   "cell_type": "markdown",
   "id": "86aa8436",
   "metadata": {},
   "source": [
    "### décision de stopper tous les tokens uniques => beaucoup de fautes d'orthographe, inutiles, non vectorisé dans les modèles déjà pré-entrainés"
   ]
  },
  {
   "cell_type": "code",
   "execution_count": 77,
   "id": "64e71979-8443-4624-a4b3-7b330d54f39a",
   "metadata": {},
   "outputs": [],
   "source": [
    "# création de la liste de tous les tokens apparus 1 seule fois dans tout le corpus de commentaire\n",
    "list_no_stop_words = []\n",
    "for cle, valeur in dico.items():\n",
    "    if valeur == 1:\n",
    "        list_no_stop_words.append(cle)\n",
    "        \n",
    " # création du fichier excel qui servira de no_stop_wrords pour notre dernier filtrage de mots mis en corbeille\n",
    "df_corbeille = pd.DataFrame(list_no_stop_words)    \n",
    "df_corbeille.to_excel('liste_no-stop-words_tokens_unique.xlsx', header=False, index=False)       # => 6725 tokens unique a éliminer !"
   ]
  },
  {
   "cell_type": "markdown",
   "id": "fdb133da-2d2c-4caa-b3de-fac5d47395de",
   "metadata": {},
   "source": [
    "### filtrage no-stop-word des mots à mettre en corbeille dans le corpus entier"
   ]
  },
  {
   "cell_type": "code",
   "execution_count": 78,
   "id": "06952fc6",
   "metadata": {},
   "outputs": [
    {
     "name": "stdout",
     "output_type": "stream",
     "text": [
      "total des mots après filtrage no_stop_words :  457517\n"
     ]
    }
   ],
   "source": [
    "# traitement des mots vides #\n",
    "# chargement fichier excel de stop words french en dataframe\n",
    "df_stop_word_xls = pd.read_excel('liste_no-stop-words_tokens_unique.xlsx', header=None)\n",
    "\n",
    "# création de stop words set\n",
    "\n",
    "# faire une liste selon nltk.corpus\n",
    "update_list_fr = list(df_stop_word_xls[0])\n",
    "\n",
    "# initialisation de la variable des mots vides\n",
    "stop_words = set()\n",
    "stop_words.update(update_list_fr)\n",
    "\n",
    "\n",
    "# fonction de filtrage\n",
    "def stop_words_filtering(mots, stop_words) : \n",
    "    tokens = []\n",
    "    for mot in mots:\n",
    "        if mot not in stop_words: \n",
    "            tokens.append(mot)\n",
    "    return tokens\n",
    "\n",
    "# création des tokens filtrés par stop_words.update et ajout de la colonne créé\n",
    "data['no_stop_words'] = data['words+2'].apply(lambda x : stop_words_filtering(x,stop_words))   # ok parfait\n",
    "\n",
    "#  décompte des tokens no_stop_word \n",
    "total = []\n",
    "for i in range(data.shape[0]):\n",
    "    total.append(len(data['no_stop_words'][i]))\n",
    "    \n",
    "# ajout de la colonne du total des tokens restants    \n",
    "data['tot_sw'] = total    \n",
    "\n",
    "print(\"total des mots après filtrage no_stop_words : \", data.tot_sw.sum())     # reste 248.607 tokens seulements ! fin du traitement"
   ]
  },
  {
   "cell_type": "code",
   "execution_count": 79,
   "id": "77ee9415",
   "metadata": {},
   "outputs": [
    {
     "data": {
      "text/html": [
       "<div>\n",
       "<style scoped>\n",
       "    .dataframe tbody tr th:only-of-type {\n",
       "        vertical-align: middle;\n",
       "    }\n",
       "\n",
       "    .dataframe tbody tr th {\n",
       "        vertical-align: top;\n",
       "    }\n",
       "\n",
       "    .dataframe thead th {\n",
       "        text-align: right;\n",
       "    }\n",
       "</style>\n",
       "<table border=\"1\" class=\"dataframe\">\n",
       "  <thead>\n",
       "    <tr style=\"text-align: right;\">\n",
       "      <th></th>\n",
       "      <th>Commentaire</th>\n",
       "      <th>star</th>\n",
       "      <th>source</th>\n",
       "      <th>company</th>\n",
       "      <th>index_org</th>\n",
       "      <th>star_org</th>\n",
       "      <th>date</th>\n",
       "      <th>mask_ras</th>\n",
       "      <th>tokens</th>\n",
       "      <th>total1</th>\n",
       "      <th>lemmatiser</th>\n",
       "      <th>tot_lem</th>\n",
       "      <th>words+2</th>\n",
       "      <th>tot_+2</th>\n",
       "      <th>no_stop_words</th>\n",
       "      <th>tot_sw</th>\n",
       "    </tr>\n",
       "  </thead>\n",
       "  <tbody>\n",
       "    <tr>\n",
       "      <th>0</th>\n",
       "      <td>bonjour , ca doit faire 5 ans environ que je suis membre showrooprive . je n ’ ai jamais eu de s...</td>\n",
       "      <td>0</td>\n",
       "      <td>TrustPilot</td>\n",
       "      <td>ShowRoom</td>\n",
       "      <td>0</td>\n",
       "      <td>1</td>\n",
       "      <td>2021-06-20 00:00:00+00:00</td>\n",
       "      <td>False</td>\n",
       "      <td>[bonjour, ca, doit, faire, ans, environ, que, je, suis, membre, showrooprive, je, n, ai, jamais,...</td>\n",
       "      <td>188</td>\n",
       "      <td>[bonjour, ca, devoir, faire, ans, environ, que, je, être, membre, showroopriv, je, n, avoir, jam...</td>\n",
       "      <td>187</td>\n",
       "      <td>[bonjour, devoir, faire, ans, environ, que, être, membre, showroopriv, avoir, jamais, avoir, sou...</td>\n",
       "      <td>133</td>\n",
       "      <td>[bonjour, devoir, faire, ans, environ, que, être, membre, showroopriv, avoir, jamais, avoir, sou...</td>\n",
       "      <td>131</td>\n",
       "    </tr>\n",
       "    <tr>\n",
       "      <th>1</th>\n",
       "      <td>vente lacoste article manquant photo prise sur 6 articles la moitié livrée sans explication manq...</td>\n",
       "      <td>0</td>\n",
       "      <td>TrustPilot</td>\n",
       "      <td>ShowRoom</td>\n",
       "      <td>1</td>\n",
       "      <td>1</td>\n",
       "      <td>2021-06-20 00:00:00+00:00</td>\n",
       "      <td>False</td>\n",
       "      <td>[vente, lacoste, article, manquant, photo, prise, sur, articles, la, moitié, livrée, sans, expli...</td>\n",
       "      <td>20</td>\n",
       "      <td>[vente, lacost, article, manquant, photo, prendre, sur, article, le, moitié, livrer, sans, expli...</td>\n",
       "      <td>19</td>\n",
       "      <td>[vente, lacost, article, manquant, photo, prendre, sur, article, moitié, livrer, sans, explicati...</td>\n",
       "      <td>16</td>\n",
       "      <td>[vente, lacost, article, manquant, photo, prendre, sur, article, moitié, livrer, sans, explicati...</td>\n",
       "      <td>16</td>\n",
       "    </tr>\n",
       "    <tr>\n",
       "      <th>2</th>\n",
       "      <td>vente lacoste honteuse , article erroné , article manquant , pas de bon de livraison , retard et...</td>\n",
       "      <td>0</td>\n",
       "      <td>TrustPilot</td>\n",
       "      <td>ShowRoom</td>\n",
       "      <td>2</td>\n",
       "      <td>1</td>\n",
       "      <td>2021-06-19 00:00:00+00:00</td>\n",
       "      <td>False</td>\n",
       "      <td>[vente, lacoste, honteuse, article, erroné, article, manquant, pas, de, bon, de, livraison, reta...</td>\n",
       "      <td>194</td>\n",
       "      <td>[vente, lacost, honteux, article, erroné, article, manquant, pas, de, bon, de, livraison, retard...</td>\n",
       "      <td>193</td>\n",
       "      <td>[vente, lacost, honteux, article, erroné, article, manquant, pas, bon, livraison, retard, servic...</td>\n",
       "      <td>134</td>\n",
       "      <td>[vente, lacost, honteux, article, erroné, article, manquant, pas, bon, livraison, retard, servic...</td>\n",
       "      <td>130</td>\n",
       "    </tr>\n",
       "  </tbody>\n",
       "</table>\n",
       "</div>"
      ],
      "text/plain": [
       "                                                                                           Commentaire  \\\n",
       "0  bonjour , ca doit faire 5 ans environ que je suis membre showrooprive . je n ’ ai jamais eu de s...   \n",
       "1  vente lacoste article manquant photo prise sur 6 articles la moitié livrée sans explication manq...   \n",
       "2  vente lacoste honteuse , article erroné , article manquant , pas de bon de livraison , retard et...   \n",
       "\n",
       "   star      source   company  index_org  star_org                       date  mask_ras  \\\n",
       "0     0  TrustPilot  ShowRoom          0         1  2021-06-20 00:00:00+00:00     False   \n",
       "1     0  TrustPilot  ShowRoom          1         1  2021-06-20 00:00:00+00:00     False   \n",
       "2     0  TrustPilot  ShowRoom          2         1  2021-06-19 00:00:00+00:00     False   \n",
       "\n",
       "                                                                                                tokens  \\\n",
       "0  [bonjour, ca, doit, faire, ans, environ, que, je, suis, membre, showrooprive, je, n, ai, jamais,...   \n",
       "1  [vente, lacoste, article, manquant, photo, prise, sur, articles, la, moitié, livrée, sans, expli...   \n",
       "2  [vente, lacoste, honteuse, article, erroné, article, manquant, pas, de, bon, de, livraison, reta...   \n",
       "\n",
       "   total1  \\\n",
       "0     188   \n",
       "1      20   \n",
       "2     194   \n",
       "\n",
       "                                                                                            lemmatiser  \\\n",
       "0  [bonjour, ca, devoir, faire, ans, environ, que, je, être, membre, showroopriv, je, n, avoir, jam...   \n",
       "1  [vente, lacost, article, manquant, photo, prendre, sur, article, le, moitié, livrer, sans, expli...   \n",
       "2  [vente, lacost, honteux, article, erroné, article, manquant, pas, de, bon, de, livraison, retard...   \n",
       "\n",
       "   tot_lem  \\\n",
       "0      187   \n",
       "1       19   \n",
       "2      193   \n",
       "\n",
       "                                                                                               words+2  \\\n",
       "0  [bonjour, devoir, faire, ans, environ, que, être, membre, showroopriv, avoir, jamais, avoir, sou...   \n",
       "1  [vente, lacost, article, manquant, photo, prendre, sur, article, moitié, livrer, sans, explicati...   \n",
       "2  [vente, lacost, honteux, article, erroné, article, manquant, pas, bon, livraison, retard, servic...   \n",
       "\n",
       "   tot_+2  \\\n",
       "0     133   \n",
       "1      16   \n",
       "2     134   \n",
       "\n",
       "                                                                                         no_stop_words  \\\n",
       "0  [bonjour, devoir, faire, ans, environ, que, être, membre, showroopriv, avoir, jamais, avoir, sou...   \n",
       "1  [vente, lacost, article, manquant, photo, prendre, sur, article, moitié, livrer, sans, explicati...   \n",
       "2  [vente, lacost, honteux, article, erroné, article, manquant, pas, bon, livraison, retard, servic...   \n",
       "\n",
       "   tot_sw  \n",
       "0     131  \n",
       "1      16  \n",
       "2     130  "
      ]
     },
     "execution_count": 79,
     "metadata": {},
     "output_type": "execute_result"
    }
   ],
   "source": [
    "data.head(3)"
   ]
  },
  {
   "cell_type": "markdown",
   "id": "0d1dc4e7-467f-403c-8c88-bfe60283fc02",
   "metadata": {},
   "source": [
    "### Nettoyage des colonnes de travail du traitement et sauvegarde en csv du dataset final après traitement"
   ]
  },
  {
   "cell_type": "code",
   "execution_count": 80,
   "id": "9894827d",
   "metadata": {},
   "outputs": [],
   "source": [
    "df = data.drop(['mask_ras','total1','tot_lem','tot_+2','tot_sw'], axis = 1)\n",
    "df.to_csv('review_trust_fr_lemmantiser_word+2_VF.csv')"
   ]
  },
  {
   "cell_type": "code",
   "execution_count": 81,
   "id": "96b06386-6970-4832-b7f1-7d4690559e1f",
   "metadata": {},
   "outputs": [
    {
     "data": {
      "text/plain": [
       "(6725, 1)"
      ]
     },
     "execution_count": 81,
     "metadata": {},
     "output_type": "execute_result"
    }
   ],
   "source": [
    "df_corbeille.shape"
   ]
  }
 ],
 "metadata": {
  "kernelspec": {
   "display_name": "Python 3 (ipykernel)",
   "language": "python",
   "name": "python3"
  },
  "language_info": {
   "codemirror_mode": {
    "name": "ipython",
    "version": 3
   },
   "file_extension": ".py",
   "mimetype": "text/x-python",
   "name": "python",
   "nbconvert_exporter": "python",
   "pygments_lexer": "ipython3",
   "version": "3.9.12"
  }
 },
 "nbformat": 4,
 "nbformat_minor": 5
}
